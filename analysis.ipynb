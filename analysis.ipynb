{
 "cells": [
  {
   "cell_type": "code",
   "execution_count": 2,
   "outputs": [
    {
     "name": "stdout",
     "output_type": "stream",
     "text": [
      "\n",
      "Training Noo-Noo against random_agent.py for 100 generations...\n",
      "------\n",
      "  Gen   1/100...  avg_fitness:  2.61e+03\n",
      "  Gen   2/100...  avg_fitness:  2.46e+03\n",
      "  Gen   3/100...  avg_fitness:  2.17e+03\n",
      "  Gen   4/100...  avg_fitness:  2.09e+03\n",
      "  Gen   5/100...  avg_fitness:  3.90e+03\n",
      "  Gen   6/100...  avg_fitness:  2.82e+04\n",
      "  Gen   7/100...  avg_fitness:  2.49e+04\n",
      "  Gen   8/100...  avg_fitness:  2.00e+04\n",
      "  Gen   9/100...  avg_fitness:  1.90e+04\n",
      "  Gen  10/100...  avg_fitness:  1.53e+04\n",
      "  Gen  11/100...  avg_fitness:  3.21e+04\n",
      "  Gen  12/100...  avg_fitness:  2.97e+04\n",
      "  Gen  13/100...  avg_fitness:  2.33e+04\n",
      "  Gen  14/100...  avg_fitness:  1.92e+04\n",
      "  Gen  15/100...  avg_fitness:  1.76e+04\n",
      "  Gen  16/100...  avg_fitness:  1.76e+04\n",
      "  Gen  17/100...  avg_fitness:  1.93e+04\n",
      "  Gen  18/100...  avg_fitness:  2.71e+04\n",
      "  Gen  19/100...  avg_fitness:  2.36e+04\n",
      "  Gen  20/100...  avg_fitness:  2.59e+04\n",
      "  Gen  21/100...  avg_fitness:  2.27e+04\n",
      "  Gen  22/100...  avg_fitness:  1.95e+04\n",
      "  Gen  23/100...  avg_fitness:  1.60e+04\n",
      "  Gen  24/100...  avg_fitness:  2.25e+04\n",
      "  Gen  25/100...  avg_fitness:  2.16e+04\n",
      "  Gen  26/100...  avg_fitness:  1.52e+04\n",
      "  Gen  27/100...  avg_fitness:  1.46e+04\n",
      "  Gen  28/100...  avg_fitness:  1.62e+04\n",
      "  Gen  29/100...  avg_fitness:  2.25e+04\n",
      "  Gen  30/100...  avg_fitness:  2.41e+04\n",
      "  Gen  31/100...  avg_fitness:  2.00e+04\n",
      "  Gen  32/100...  avg_fitness:  3.05e+04\n",
      "  Gen  33/100...  avg_fitness:  4.12e+04\n",
      "  Gen  34/100...  avg_fitness:  3.88e+04\n",
      "  Gen  35/100...  avg_fitness:  4.18e+04\n",
      "  Gen  36/100...  avg_fitness:  2.15e+04\n",
      "  Gen  37/100...  avg_fitness:  1.81e+04\n",
      "  Gen  38/100...  avg_fitness:  2.26e+04\n",
      "  Gen  39/100...  avg_fitness:  2.35e+04\n",
      "  Gen  40/100...  avg_fitness:  2.27e+04\n",
      "  Gen  41/100...  avg_fitness:  1.77e+04\n",
      "  Gen  42/100...  avg_fitness:  1.42e+04\n",
      "  Gen  43/100...  avg_fitness:  1.73e+04\n",
      "  Gen  44/100...  avg_fitness:  1.67e+04\n",
      "  Gen  45/100...  avg_fitness:  2.35e+04\n",
      "  Gen  46/100...  avg_fitness:  2.21e+04\n",
      "  Gen  47/100...  avg_fitness:  2.56e+04\n",
      "  Gen  48/100...  avg_fitness:  2.55e+04\n",
      "  Gen  49/100...  avg_fitness:  2.31e+04\n",
      "  Gen  50/100...  avg_fitness:  2.50e+04\n",
      "  Gen  51/100...  avg_fitness:  1.08e+04\n",
      "  Gen  52/100...  avg_fitness:  2.41e+04\n",
      "  Gen  53/100...  avg_fitness:  2.28e+04\n",
      "  Gen  54/100...  avg_fitness:  1.94e+04\n",
      "  Gen  55/100...  avg_fitness:  2.01e+04\n",
      "  Gen  56/100...  avg_fitness:  1.32e+04\n",
      "  Gen  57/100...  avg_fitness:  2.33e+04\n",
      "  Gen  58/100...  avg_fitness:  2.02e+04\n",
      "  Gen  59/100...  avg_fitness:  1.91e+04\n",
      "  Gen  60/100...  avg_fitness:  2.00e+04\n",
      "  Gen  61/100...  avg_fitness:  3.16e+04\n",
      "  Gen  62/100...  avg_fitness:  3.20e+04\n",
      "  Gen  63/100...  avg_fitness:  3.04e+04\n",
      "  Gen  64/100...  avg_fitness:  2.64e+04\n",
      "  Gen  65/100...  avg_fitness:  2.62e+04\n",
      "  Gen  66/100...  avg_fitness:  6.89e+03\n",
      "  Gen  67/100...  avg_fitness:  1.97e+04\n",
      "  Gen  68/100...  avg_fitness:  2.94e+04\n",
      "  Gen  69/100...  avg_fitness:  4.09e+04\n",
      "  Gen  70/100...  avg_fitness:  3.61e+04\n",
      "  Gen  71/100...  avg_fitness:  9.06e+03\n",
      "  Gen  72/100...  avg_fitness:  2.05e+04\n",
      "  Gen  73/100...  avg_fitness:  2.04e+04\n",
      "  Gen  74/100...  avg_fitness:  2.36e+04\n",
      "  Gen  75/100...  avg_fitness:  2.23e+04\n",
      "  Gen  76/100...  avg_fitness:  3.19e+04\n",
      "  Gen  77/100...  avg_fitness:  2.76e+04\n",
      "  Gen  78/100...  avg_fitness:  2.13e+04\n",
      "  Gen  79/100...  avg_fitness:  2.04e+04\n",
      "  Gen  80/100...  avg_fitness:  2.28e+04\n",
      "  Gen  81/100...  avg_fitness:  2.77e+04\n",
      "  Gen  82/100...  avg_fitness:  2.01e+04\n",
      "  Gen  83/100...  avg_fitness:  1.94e+04\n",
      "  Gen  84/100...  avg_fitness:  1.89e+04\n",
      "  Gen  85/100...  avg_fitness:  1.89e+04\n",
      "  Gen  86/100...  avg_fitness:  4.00e+04\n",
      "  Gen  87/100...  avg_fitness:  3.36e+04\n",
      "  Gen  88/100...  avg_fitness:  2.87e+04\n",
      "  Gen  89/100...  avg_fitness:  2.35e+04\n",
      "  Gen  90/100...  avg_fitness:  2.44e+04\n",
      "  Gen  91/100...  avg_fitness:  3.48e+04\n",
      "  Gen  92/100...  avg_fitness:  3.36e+04\n",
      "  Gen  93/100...  avg_fitness:  2.94e+04\n",
      "  Gen  94/100...  avg_fitness:  3.19e+04\n",
      "  Gen  95/100...  avg_fitness:  3.16e+04\n",
      "  Gen  96/100...  avg_fitness:  4.61e+04\n",
      "  Gen  97/100...  avg_fitness:  4.68e+04\n",
      "  Gen  98/100...  avg_fitness:  4.55e+04\n",
      "  Gen  99/100...  avg_fitness:  3.79e+04\n",
      "  Gen 100/100...  avg_fitness:  3.98e+03\n",
      "\n",
      "Saving last generation agents to my_agent.tar.gz...done\n",
      "pygame 2.5.0 (SDL 2.28.0, Python 3.8.17)\n",
      "Hello from the pygame community. https://www.pygame.org/contribute.html\n",
      "\n",
      "Tournament Noo-Noo vs. random!!!\n",
      "  Game 1...won by Noo-Noo (blue) with score=091 after 90 turns.\n",
      "  Game 2...won by Noo-Noo (blue) with score=052 after 85 turns.\n",
      "  Game 3...won by Noo-Noo (blue) with score=125 after 100 turns.\n",
      "  Game 4...won by Noo-Noo (blue) with score=054 after 100 turns.\n",
      "  Game 5...won by Noo-Noo (blue) with score=060 after 83 turns.\n",
      "Tournament Noo-Noo vs. random!!!\n",
      "  Game 1...won by Noo-Noo (blue) with score=054 after 97 turns.\n",
      "  Game 2...won by Noo-Noo (blue) with score=108 after 100 turns.\n",
      "  Game 3...won by Noo-Noo (blue) with score=067 after 65 turns.\n",
      "  Game 4...won by Noo-Noo (blue) with score=051 after 100 turns.\n",
      "  Game 5...won by Noo-Noo (blue) with score=068 after 80 turns."
     ]
    }
   ],
   "source": [
    "import cleaners as cleaners\n",
    "\n",
    "game_settings = {\n",
    "\n",
    "    #File implementing the agent playing as player 1\n",
    "    \"player1\": \"my_agent.py\",\n",
    "\n",
    "    # File implementing the agent playing as player 2\n",
    "    \"player2\": \"random_agent.py\",\n",
    "\n",
    "    # Size of the game grid (Y,X)\n",
    "    \"gridSize\": (41,41),\n",
    "\n",
    "    # Number of vacuum cleaners\n",
    "    \"nCleaners\": 40,\n",
    "\n",
    "    # Number of turns per game\n",
    "    \"nTurns\": 100,\n",
    "\n",
    "    # Speed of visualisation ('slow','normal','fast')\n",
    "    \"visSpeed\": 'fast',\n",
    "\n",
    "    # Visualisation resolution\n",
    "    \"visResolution\": (1280, 720),\n",
    "\n",
    "    # Wheter to save final games\n",
    "    \"saveFinalGames\": True,\n",
    "\n",
    "    \"seed\": None   # seed for 1 game choices, None for random seed\n",
    "}\n",
    "\n",
    "fitnesses = cleaners.run_game(game_settings)"
   ],
   "metadata": {
    "collapsed": false,
    "ExecuteTime": {
     "end_time": "2023-09-04T03:57:13.505515800Z",
     "start_time": "2023-09-04T03:56:05.051028600Z"
    }
   }
  },
  {
   "cell_type": "code",
   "execution_count": 4,
   "outputs": [
    {
     "data": {
      "text/plain": "Text(0, 0.5, 'Average fitness')"
     },
     "execution_count": 4,
     "metadata": {},
     "output_type": "execute_result"
    },
    {
     "data": {
      "text/plain": "<Figure size 640x480 with 1 Axes>",
      "image/png": "[encoded data removed]"
     },
     "metadata": {},
     "output_type": "display_data"
    }
   ],
   "source": [
    "import matplotlib.pyplot as plt\n",
    "\n",
    "plt.plot(fitnesses.players[0].fitness)\n",
    "plt.title(\"Average fitness over generation\")\n",
    "plt.xlabel(\"Generation\")\n",
    "plt.ylabel(\"Average fitness\")"
   ],
   "metadata": {
    "collapsed": false,
    "ExecuteTime": {
     "end_time": "2023-09-04T03:57:47.286531700Z",
     "start_time": "2023-09-04T03:57:47.027820300Z"
    }
   }
  },
  {
   "cell_type": "code",
   "execution_count": 6,
   "outputs": [
    {
     "data": {
      "text/plain": "[]"
     },
     "execution_count": 6,
     "metadata": {},
     "output_type": "execute_result"
    }
   ],
   "source": [
    "fitnesses.players[0].fitness"
   ],
   "metadata": {
    "collapsed": false,
    "ExecuteTime": {
     "end_time": "2023-09-04T03:58:00.341682900Z",
     "start_time": "2023-09-04T03:58:00.301006Z"
    }
   }
  }
 ],
 "metadata": {
  "kernelspec": {
   "display_name": "Python 3",
   "language": "python",
   "name": "python3"
  },
  "language_info": {
   "codemirror_mode": {
    "name": "ipython",
    "version": 2
   },
   "file_extension": ".py",
   "mimetype": "text/x-python",
   "name": "python",
   "nbconvert_exporter": "python",
   "pygments_lexer": "ipython2",
   "version": "2.7.6"
  }
 },
 "nbformat": 4,
 "nbformat_minor": 0
}
